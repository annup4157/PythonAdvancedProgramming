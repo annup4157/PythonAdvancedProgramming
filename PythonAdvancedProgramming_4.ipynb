{
 "cells": [
  {
   "cell_type": "markdown",
   "metadata": {},
   "source": [
    "## Question 1\n",
    "1. In mathematics, the Fibonacci numbers, commonly denoted Fn, form a\n",
    "sequence, called the Fibonacci sequence, such that each number is the sum\n",
    "of the two preceding ones, starting from 0 and 1:\n",
    "\n",
    "The beginning of the sequence is this:\n",
    "0, 1, 1, 2, 3, 5, 8, 13, 21, 34, 55, 89, 144, ...\n",
    "The function fastFib(num) returns the fibonacci number Fn, of the given num\n",
    "as an argument.\n",
    "Examples\n",
    "fib_fast(5) ➞ 5\n",
    "fib_fast(10) ➞ 55\n",
    "fib_fast(20) ➞ 6765\n",
    "fib_fast(50) ➞ 12586269025"
   ]
  },
  {
   "cell_type": "code",
   "execution_count": 1,
   "metadata": {},
   "outputs": [],
   "source": [
    "def fib_fast(num):\n",
    "    count = 0\n",
    "    sum = 0\n",
    "    f1 , f2 = 0,1\n",
    "    if num <= 0:\n",
    "        print(\"Not a positive number\")\n",
    "    elif num == 1:\n",
    "        print(\"nth Fibonacci series upto \",num, \":\")\n",
    "        \n",
    "        return num\n",
    "    else:\n",
    "        print(\"nth Fibonacci series upto \",num, \":\")\n",
    "        while count <= num:        \n",
    "            count+=1\n",
    "            if count > num:\n",
    "                return f1\n",
    "            fth = f1 + f2\n",
    "            f1,f2 = f2, fth   "
   ]
  },
  {
   "cell_type": "code",
   "execution_count": 2,
   "metadata": {},
   "outputs": [
    {
     "name": "stdout",
     "output_type": "stream",
     "text": [
      "Not a positive number\n"
     ]
    }
   ],
   "source": [
    "fib_fast(-1)"
   ]
  },
  {
   "cell_type": "code",
   "execution_count": 3,
   "metadata": {},
   "outputs": [
    {
     "name": "stdout",
     "output_type": "stream",
     "text": [
      "nth Fibonacci series upto  10 :\n"
     ]
    },
    {
     "data": {
      "text/plain": [
       "55"
      ]
     },
     "execution_count": 3,
     "metadata": {},
     "output_type": "execute_result"
    }
   ],
   "source": [
    "fib_fast(10)"
   ]
  },
  {
   "cell_type": "code",
   "execution_count": 4,
   "metadata": {},
   "outputs": [
    {
     "name": "stdout",
     "output_type": "stream",
     "text": [
      "nth Fibonacci series upto  20 :\n"
     ]
    },
    {
     "data": {
      "text/plain": [
       "6765"
      ]
     },
     "execution_count": 4,
     "metadata": {},
     "output_type": "execute_result"
    }
   ],
   "source": [
    "fib_fast(20)"
   ]
  },
  {
   "cell_type": "code",
   "execution_count": 5,
   "metadata": {},
   "outputs": [
    {
     "name": "stdout",
     "output_type": "stream",
     "text": [
      "nth Fibonacci series upto  50 :\n"
     ]
    },
    {
     "data": {
      "text/plain": [
       "12586269025"
      ]
     },
     "execution_count": 5,
     "metadata": {},
     "output_type": "execute_result"
    }
   ],
   "source": [
    "fib_fast(50)"
   ]
  },
  {
   "cell_type": "code",
   "execution_count": 6,
   "metadata": {},
   "outputs": [
    {
     "name": "stdout",
     "output_type": "stream",
     "text": [
      "nth Fibonacci series upto  1 :\n"
     ]
    },
    {
     "data": {
      "text/plain": [
       "1"
      ]
     },
     "execution_count": 6,
     "metadata": {},
     "output_type": "execute_result"
    }
   ],
   "source": [
    "fib_fast(1)"
   ]
  },
  {
   "cell_type": "markdown",
   "metadata": {},
   "source": [
    "## Question 2\n",
    "2. Create a function that takes a strings characters as ASCII and returns each\n",
    "characters hexadecimal value as a string.\n",
    "Examples\n",
    "convert_to_hex('hello world') ➞ '68 65 6c 6c 6f 20 77 6f 72 6c 64'\n",
    "convert_to_hex('Big Boi') ➞ '42 69 67 20 42 6f 69'\n",
    "convert_to_hex('Marty Poppinson') ➞ '4d 61 72 74 79 20 50 6f 70 70 69 6e\n",
    "73 6f 6e'"
   ]
  },
  {
   "cell_type": "code",
   "execution_count": 7,
   "metadata": {},
   "outputs": [],
   "source": [
    "def convert_to_hex(str):\n",
    " \n",
    "    # Initialize final String\n",
    "    hexa = []\n",
    "    for i in range(len(str)):      \n",
    "        ch = str[i]      \n",
    "        in1 = ord(ch)\n",
    "        part = hex(in1).lstrip(\"0x\")\n",
    "        hexa.append(part)\n",
    "    return \" \".join(hexa) "
   ]
  },
  {
   "cell_type": "code",
   "execution_count": 8,
   "metadata": {},
   "outputs": [
    {
     "data": {
      "text/plain": [
       "'68 65 6c 6c 6f 20 77 6f 72 6c 64'"
      ]
     },
     "execution_count": 8,
     "metadata": {},
     "output_type": "execute_result"
    }
   ],
   "source": [
    "convert_to_hex('hello world')"
   ]
  },
  {
   "cell_type": "code",
   "execution_count": 9,
   "metadata": {},
   "outputs": [
    {
     "data": {
      "text/plain": [
       "'42 69 67 20 42 6f 69'"
      ]
     },
     "execution_count": 9,
     "metadata": {},
     "output_type": "execute_result"
    }
   ],
   "source": [
    "convert_to_hex('Big Boi')"
   ]
  },
  {
   "cell_type": "code",
   "execution_count": 10,
   "metadata": {},
   "outputs": [
    {
     "data": {
      "text/plain": [
       "'4d 61 72 74 79 20 50 6f 70 70 69 6e 73 6f 6e'"
      ]
     },
     "execution_count": 10,
     "metadata": {},
     "output_type": "execute_result"
    }
   ],
   "source": [
    "convert_to_hex('Marty Poppinson')"
   ]
  },
  {
   "cell_type": "markdown",
   "metadata": {},
   "source": [
    "## Question 3\n",
    "3. Someone has attempted to censor my strings by replacing every vowel\n",
    "with a *, l*k* th*s. Luckily, I've been able to find the vowels that were\n",
    "removed.\n",
    "Given a censored string and a string of the censored vowels, return the\n",
    "original uncensored string.\n",
    "Example\n",
    "uncensor('Wh*r* d*d my v*w*ls g*?', 'eeioeo') ➞ 'Where did my vowels go?'\n",
    "uncensor('abcd', '') ➞ 'abcd'\n",
    "uncensor('*PP*RC*S*', 'UEAE') ➞ 'UPPERCASE'"
   ]
  },
  {
   "cell_type": "code",
   "execution_count": 11,
   "metadata": {},
   "outputs": [],
   "source": [
    "def uncensor(string, vowels):\n",
    "    new = ''\n",
    "    counter = 0\n",
    "    for i in range(len(string)):\n",
    "        if string[i] == '*':            \n",
    "            new += vowels[counter]\n",
    "            counter += 1\n",
    "        else:\n",
    "            new += string[i]\n",
    "    return new"
   ]
  },
  {
   "cell_type": "code",
   "execution_count": 12,
   "metadata": {},
   "outputs": [
    {
     "data": {
      "text/plain": [
       "'Where did my vowels go?'"
      ]
     },
     "execution_count": 12,
     "metadata": {},
     "output_type": "execute_result"
    }
   ],
   "source": [
    "uncensor('Wh*r* d*d my v*w*ls g*?', 'eeioeo')"
   ]
  },
  {
   "cell_type": "code",
   "execution_count": 13,
   "metadata": {},
   "outputs": [
    {
     "data": {
      "text/plain": [
       "'abcd'"
      ]
     },
     "execution_count": 13,
     "metadata": {},
     "output_type": "execute_result"
    }
   ],
   "source": [
    "uncensor('abcd', '')"
   ]
  },
  {
   "cell_type": "code",
   "execution_count": 14,
   "metadata": {},
   "outputs": [
    {
     "data": {
      "text/plain": [
       "'UPPERCASE'"
      ]
     },
     "execution_count": 14,
     "metadata": {},
     "output_type": "execute_result"
    }
   ],
   "source": [
    "uncensor('*PP*RC*S*', 'UEAE')"
   ]
  },
  {
   "cell_type": "markdown",
   "metadata": {},
   "source": [
    "## Question 4\n",
    "4. Write a function that takes an IP address and returns the domain name\n",
    "using PTR DNS records.\n",
    "Example\n",
    "get_domain('8.8.8.8') ➞ 'dns.google'\n",
    "get_domain('8.8.4.4') ➞ 'dns.google'\n"
   ]
  },
  {
   "cell_type": "code",
   "execution_count": 24,
   "metadata": {},
   "outputs": [],
   "source": [
    "# !pip install dnspython"
   ]
  },
  {
   "cell_type": "code",
   "execution_count": 27,
   "metadata": {},
   "outputs": [
    {
     "name": "stdout",
     "output_type": "stream",
     "text": [
      "Domain name using PTR DNS:\n",
      "dns.google\n",
      "ec2-13-251-106-90.ap-southeast-1.compute.amazonaws.com\n",
      "dns.google\n",
      "ec2-23-23-212-126.compute-1.amazonaws.com\n"
     ]
    }
   ],
   "source": [
    "def get_domain_name(ip_address):\n",
    "  import socket\n",
    "  result=socket.gethostbyaddr(ip_address)\n",
    "  return list(result)[0]\n",
    "print(\"Domain name using PTR DNS:\")\n",
    "print(get_domain_name(\"8.8.8.8\"))\n",
    "print(get_domain_name(\"13.251.106.90\"))\n",
    "print(get_domain_name(\"8.8.4.4\"))\n",
    "print(get_domain_name(\"23.23.212.126\"))"
   ]
  },
  {
   "cell_type": "markdown",
   "metadata": {},
   "source": [
    "## Question 5\n",
    "5. Create a function that takes an integer n and returns the factorial of\n",
    "factorials. See below examples for a better understanding:\n",
    "Examples\n",
    "fact_of_fact(4) ➞ 288\n",
    "4! * 3! * 2! * 1! = 288\n",
    "fact_of_fact(5) ➞ 34560\n",
    "fact_of_fact(6) ➞ 24883200"
   ]
  },
  {
   "cell_type": "code",
   "execution_count": 28,
   "metadata": {},
   "outputs": [],
   "source": [
    "def factorial(n):\n",
    "    fact = 1    \n",
    "    for num in range(2, n + 1):\n",
    "        fact = fact * num\n",
    "    return(fact)\n",
    "\n",
    "def fact_of_fact(num):\n",
    "    factorial_of_fact = 1\n",
    "    if num < 0:\n",
    "        print(\"Can not calculate Factorial of a negative number\")\n",
    "    elif num == 0:\n",
    "        print(\"Factorial of zero is 1\")\n",
    "    else:\n",
    "        for i in range(1,num+1):\n",
    "            factorial_of_fact = factorial_of_fact * factorial(i)\n",
    "    return \"Factorial of {} is {}\".format(num, factorial_of_fact)"
   ]
  },
  {
   "cell_type": "code",
   "execution_count": 29,
   "metadata": {},
   "outputs": [
    {
     "data": {
      "text/plain": [
       "'Factorial of 4 is 288'"
      ]
     },
     "execution_count": 29,
     "metadata": {},
     "output_type": "execute_result"
    }
   ],
   "source": [
    "fact_of_fact(4)"
   ]
  },
  {
   "cell_type": "code",
   "execution_count": 30,
   "metadata": {},
   "outputs": [
    {
     "data": {
      "text/plain": [
       "'Factorial of 5 is 34560'"
      ]
     },
     "execution_count": 30,
     "metadata": {},
     "output_type": "execute_result"
    }
   ],
   "source": [
    "fact_of_fact(5)"
   ]
  },
  {
   "cell_type": "code",
   "execution_count": 31,
   "metadata": {},
   "outputs": [
    {
     "data": {
      "text/plain": [
       "'Factorial of 6 is 24883200'"
      ]
     },
     "execution_count": 31,
     "metadata": {},
     "output_type": "execute_result"
    }
   ],
   "source": [
    "fact_of_fact(6)"
   ]
  },
  {
   "cell_type": "code",
   "execution_count": null,
   "metadata": {},
   "outputs": [],
   "source": []
  }
 ],
 "metadata": {
  "kernelspec": {
   "display_name": "Python 3",
   "language": "python",
   "name": "python3"
  },
  "language_info": {
   "codemirror_mode": {
    "name": "ipython",
    "version": 3
   },
   "file_extension": ".py",
   "mimetype": "text/x-python",
   "name": "python",
   "nbconvert_exporter": "python",
   "pygments_lexer": "ipython3",
   "version": "3.8.5"
  }
 },
 "nbformat": 4,
 "nbformat_minor": 4
}
